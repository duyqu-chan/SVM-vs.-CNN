{
 "cells": [
  {
   "cell_type": "markdown",
   "metadata": {},
   "source": [
    "# Digit Recognizer\n",
    "by Duygu Can\n",
    "\n",
    "The goal of the project is to correctly identify digits from a dataset of tens of thousands of handwritten images. Different machine learning algorithms will be studied on the toy dataset of MNIST (Modified National Institute of Standards and Technology) [1]. The MNIST database is a large and mixed dataset composed of hand-written digits by high school students and US Census Bureu. It is composed of 70000 images (60000 for training and 10000 for test). This data set is already avaible in Scikit-Learn library with the same structure of the creators LeCun  et al. [2]."
   ]
  },
  {
   "cell_type": "markdown",
   "metadata": {},
   "source": [
    "![Sample images from MNIST](MnistExamples.png)"
   ]
  },
  {
   "cell_type": "markdown",
   "metadata": {},
   "source": [
    "## Data Pre-processing"
   ]
  },
  {
   "cell_type": "markdown",
   "metadata": {},
   "source": [
    "At first the required libraries and packages should be imported for future use."
   ]
  },
  {
   "cell_type": "code",
   "execution_count": 4,
   "metadata": {},
   "outputs": [],
   "source": [
    "from __future__ import print_function\n",
    "import matplotlib\n",
    "import matplotlib.pyplot as plt\n",
    "import seaborn as sns\n",
    "import numpy as np\n",
    "import keras\n",
    "%matplotlib inline\n",
    "from sklearn.manifold import TSNE\n",
    "from time import time, clock\n",
    "from sklearn.model_selection import train_test_split\n",
    "from keras.utils.np_utils import to_categorical\n",
    "from sklearn.preprocessing import MinMaxScaler\n",
    "from sklearn.datasets import fetch_mldata\n",
    "from keras.datasets import mnist\n",
    "from keras.models import Sequential\n",
    "from keras.layers import Dense, Dropout, Flatten,  BatchNormalization, Conv2D, MaxPooling2D\n",
    "from keras import backend as K\n",
    "from pylab import *\n",
    "from keras.callbacks import LearningRateScheduler\n",
    "from keras.preprocessing.image import ImageDataGenerator\n",
    "from sklearn.metrics import confusion_matrix"
   ]
  },
  {
   "cell_type": "markdown",
   "metadata": {},
   "source": [
    "During development of the code, obtaining reproducible results for comparision is essential. This is the only way we can compare results from different runs and determine which parameter set gives best result. So following code snipet is borrowed from [Keras FAQ](https://keras.io/getting-started/faq/#how-can-i-obtain-reproducible-results-using-keras-during-development)."
   ]
  },
  {
   "cell_type": "code",
   "execution_count": 9,
   "metadata": {},
   "outputs": [],
   "source": [
    "import numpy as np\n",
    "import tensorflow as tf\n",
    "import random as rn\n",
    "\n",
    "# The below is necessary in Python 3.2.3 onwards to\n",
    "# have reproducible behavior for certain hash-based operations.\n",
    "# See these references for further details:\n",
    "# https://docs.python.org/3.4/using/cmdline.html#envvar-PYTHONHASHSEED\n",
    "# https://github.com/keras-team/keras/issues/2280#issuecomment-306959926\n",
    "\n",
    "import os\n",
    "os.environ['PYTHONHASHSEED'] = '0'\n",
    "\n",
    "# The below is necessary for starting Numpy generated random numbers\n",
    "# in a well-defined initial state.\n",
    "\n",
    "np.random.seed(42)\n",
    "\n",
    "# The below is necessary for starting core Python generated random numbers\n",
    "# in a well-defined state.\n",
    "\n",
    "rn.seed(12345)\n",
    "\n",
    "# Force TensorFlow to use single thread.\n",
    "# Multiple threads are a potential source of\n",
    "# non-reproducible results.\n",
    "# For further details, see: https://stackoverflow.com/questions/42022950/which-seeds-have-to-be-set-where-to-realize-100-reproducibility-of-training-res\n",
    "\n",
    "session_conf = tf.ConfigProto(intra_op_parallelism_threads=1, inter_op_parallelism_threads=1)\n",
    "\n",
    "from keras import backend as K\n",
    "\n",
    "# The below tf.set_random_seed() will make random number generation\n",
    "# in the TensorFlow backend have a well-defined initial state.\n",
    "# For further details, see: https://www.tensorflow.org/api_docs/python/tf/set_random_seed\n",
    "\n",
    "tf.set_random_seed(1234)\n",
    "\n",
    "sess = tf.Session(graph=tf.get_default_graph(), config=session_conf)\n",
    "K.set_session(sess)"
   ]
  },
  {
   "cell_type": "markdown",
   "metadata": {},
   "source": [
    "The MNIST dataset is downloaded from [mldata.org](http://www.mldata.org/repository/) using *fetch_mldata* function. Let's have a quick look at the structure of the data."
   ]
  },
  {
   "cell_type": "code",
   "execution_count": 10,
   "metadata": {},
   "outputs": [
    {
     "name": "stdout",
     "output_type": "stream",
     "text": [
      "Shape of the features:  (70000, 784)\n",
      "Shape of the labels:  (70000,)\n"
     ]
    }
   ],
   "source": [
    "mnist = fetch_mldata('MNIST original')\n",
    "X, y = mnist[\"data\"].astype(\"float32\"), mnist[\"target\"] # features with utf8 data type converted to floating numbers\n",
    "print(\"Shape of the features: \",X.shape)\n",
    "print(\"Shape of the labels: \",y.shape)"
   ]
  },
  {
   "cell_type": "code",
   "execution_count": 11,
   "metadata": {},
   "outputs": [],
   "source": [
    "# Parameters to be changed for the new dataset\n",
    "height = 28\n",
    "width = 28\n",
    "channels = 1\n",
    "inputShape = (height, width, channels)\n",
    "n_inputs = height * width\n",
    "#randomSeed = 42 #fixed for reproducibility\n",
    "testSize=1/7.0\n"
   ]
  },
  {
   "cell_type": "markdown",
   "metadata": {},
   "source": [
    "There are  70000 instances with 784 features. The digits are size normalized each consisting of 28x28 pixels (724 features). Each feature represents pixel’s gray-scale intensity, from 0 (white) to 255 (black). Here I visualized a custom image from the training set:"
   ]
  },
  {
   "cell_type": "code",
   "execution_count": 12,
   "metadata": {},
   "outputs": [
    {
     "data": {
      "image/png": "[encoded data removed]",
      "text/plain": [
       "<matplotlib.figure.Figure at 0x26e07e27a58>"
      ]
     },
     "metadata": {},
     "output_type": "display_data"
    }
   ],
   "source": [
    "digitIndex = X[666]\n",
    "digitImage = digitIndex.reshape(height, width) # Flat feature vector reshaped to 28x28 array\n",
    "plt.imshow(digitImage, cmap = matplotlib.cm.binary, # Display using Matplotlib's imshow function\n",
    "interpolation=\"nearest\")\n",
    "plt.axis(\"off\")\n",
    "plt.show()"
   ]
  },
  {
   "cell_type": "markdown",
   "metadata": {},
   "source": [
    "And the related label is: "
   ]
  },
  {
   "cell_type": "code",
   "execution_count": 13,
   "metadata": {},
   "outputs": [
    {
     "name": "stdout",
     "output_type": "stream",
     "text": [
      "0.0\n"
     ]
    }
   ],
   "source": [
    "print(y[666])"
   ]
  },
  {
   "cell_type": "markdown",
   "metadata": {},
   "source": [
    "Uniform distribution of the occurance frequencies of the digits implies that each one is represented in the set with equal chances. So, the set seems to be balanced."
   ]
  },
  {
   "cell_type": "code",
   "execution_count": 14,
   "metadata": {
    "slideshow": {
     "slide_type": "slide"
    }
   },
   "outputs": [
    {
     "data": {
      "image/png": "[encoded data removed]",
      "text/plain": [
       "<matplotlib.figure.Figure at 0x26e08163668>"
      ]
     },
     "metadata": {},
     "output_type": "display_data"
    }
   ],
   "source": [
    "sns.countplot(y)\n",
    "#subplot(1,3,1)\n",
    "#sns.countplot(y_train)\n",
    "#title(\"Training Set\")\n",
    "#subplot(1,3,3)\n",
    "#sns.countplot(y_test)\n",
    "#title(\"Test Set\")\n",
    "plt.show()"
   ]
  },
  {
   "cell_type": "markdown",
   "metadata": {},
   "source": [
    "Grayscale normalization must be performed to reduce the effect of illumination's differences. Not to destroy the sparseness charachteristics of the data, mean value is not subtracted from each instance. Min-Max scaling is applied instead. Furthermore CNNs are said to converge faster on 0-1 range rather than 0-255 range [4]. "
   ]
  },
  {
   "cell_type": "code",
   "execution_count": 15,
   "metadata": {},
   "outputs": [
    {
     "name": "stdout",
     "output_type": "stream",
     "text": [
      "per-feature minimum after scaling of the set:\n",
      " [0.]\n",
      "per-feature maximum after scaling of the set:\n",
      " [0.         0.99999994 1.        ]\n"
     ]
    }
   ],
   "source": [
    "#X -= np.mean(X, axis = 0) # mean subtraction \n",
    "scaler = MinMaxScaler()\n",
    "scaler.fit(X) \n",
    "X = scaler.transform(X)\n",
    "\n",
    "#Comment out the following lines not to see the effect of the 0-1 normalization\n",
    "print(\"per-feature minimum after scaling of the set:\\n {}\".format(np.unique(X.min(axis=0))))\n",
    "print(\"per-feature maximum after scaling of the set:\\n {}\".format(np.unique(X.max(axis=0))))"
   ]
  },
  {
   "cell_type": "markdown",
   "metadata": {},
   "source": [
    "## Dimentionality Reduction"
   ]
  },
  {
   "cell_type": "markdown",
   "metadata": {},
   "source": [
    "MNIST dataset consists of a 784 features (columns), it is perfect to introduce dimensionality reduction methods. PCA or LDA are the most popular methods for dimentionality reduction but there topology preserving capabilities of t-SNE [19, 20]. Since PCA is a linear algorithm, it fails to interpret complex polynomial relationship between features because it focuses on placing dissimilar points apart from each other. However, t-SNE is a nonlinear algorithm that can capture both local and the global structure of the data [21]. \n",
    "\n",
    "Stochastic Neighbor Embbeding (SNE) algorithm converts the distance between the points into probability of similarity of points. Similarity is calculated as conditional probalitity using Gaussian distribution. In the same manner, probability of similarity is calculated low dimentional representations of those points. In a perfect representation those two conditional probabilities must be the same. Ideally, SNE tries to minimize the difference between those two probabilities of similarity between high-dimentional representation and low-dimentional representaiton.\n",
    "\n",
    "Sklearn documentation for t-SNE recommends to use another feature reduction method such as PCA before  to reduce the number of dimensions to a reasonable amount (e.g. 50) if the number of features is very high. This will suppress some noise and speed up the computation of pairwise distances between samples [22].\n",
    "\n",
    "The dataset is splitted to train and test parts in a stratified wat so that each class will be represented similarly."
   ]
  },
  {
   "cell_type": "code",
   "execution_count": 17,
   "metadata": {},
   "outputs": [
    {
     "name": "stdout",
     "output_type": "stream",
     "text": [
      "[0.09734727 0.16881344 0.23022482 0.28431505 0.33313936 0.37615907\n",
      " 0.40898344 0.43792766 0.46544018 0.4889192  0.5099315  0.5303275\n",
      " 0.5474365  0.5644161  0.5802399  0.5951342  0.6083341  0.6211185\n",
      " 0.6329766  0.6444837  0.6551802  0.6652844  0.67484796 0.68396413\n",
      " 0.6928279  0.7012153  0.7093403  0.71718353 0.7245721  0.73147875\n",
      " 0.73805726 0.7445211  0.75053996 0.7563983  0.76207495 0.76751804\n",
      " 0.77256185 0.7774368  0.78223956 0.7869211  0.7914712  0.7959205\n",
      " 0.80009884 0.804067   0.80791146 0.811671   0.81530046 0.8187932\n",
      " 0.8221753  0.8253749  0.8285373  0.8316476  0.8346218  0.83748966\n",
      " 0.8403147  0.8430107  0.845695   0.8482609  0.85081005 0.8532629\n",
      " 0.8556572  0.8580423  0.8603376  0.8625409  0.86468226 0.8667406\n",
      " 0.8687702  0.8707213  0.87263876 0.87451875 0.87638885 0.8781915\n",
      " 0.87995946 0.8816947  0.8833417  0.8849693  0.8865788  0.8881259\n",
      " 0.8895989  0.89101875 0.8924283  0.8938294  0.89522094 0.896574\n",
      " 0.8978975  0.8992143  0.9005122  0.9017686  0.90299976 0.9042028\n",
      " 0.9053673  0.9065099  0.9076357  0.9087371  0.9098166  0.91088843\n",
      " 0.9119238  0.9129588  0.9139651  0.9149637  0.9159368  0.9168799\n",
      " 0.91781485 0.9187261  0.91962487 0.9205123  0.9213738  0.922224\n",
      " 0.92306036 0.9238771  0.9246633  0.92544115 0.92621297 0.92697304\n",
      " 0.9277291  0.92846936 0.92920095 0.9299245  0.9306358  0.93133396\n",
      " 0.93202454 0.9327065  0.9333843  0.9340508  0.93470854 0.9353488\n",
      " 0.93597627 0.93659514 0.9372022  0.9377993  0.93839157 0.9389766\n",
      " 0.9395559  0.94012994 0.9406996  0.9412573  0.941812   0.9423523\n",
      " 0.94286895 0.9433725  0.9438753  0.94436926 0.9448577  0.9453424\n",
      " 0.94581646 0.946277   0.9467357  0.94718635 0.94763476 0.94807774]\n",
      "Time Passed: 4.078134 s\n"
     ]
    }
   ],
   "source": [
    "# PCA\n",
    "from sklearn.decomposition import PCA\n",
    "X_train, X_test, y_train, y_test = train_test_split(X,y,test_size = testSize,stratify=y, random_state=42)\n",
    "#for n in [25, 50, 75, 100, 150]\n",
    "nComp = 150\n",
    "t0 = time.time()\n",
    "pca = PCA(n_components=nComp)\n",
    "pca.fit(X_train) \n",
    "X_train_trans = pca.transform(X_train) \n",
    "exp_Var = pca.explained_variance_ratio_.cumsum()\n",
    "print(exp_Var)\n",
    "print(\"Time Passed: %f s\"%(time.time()-t0))"
   ]
  },
  {
   "cell_type": "markdown",
   "metadata": {},
   "source": [
    "The first 86 components explains 90% of the variance in the training set."
   ]
  },
  {
   "cell_type": "code",
   "execution_count": 18,
   "metadata": {},
   "outputs": [
    {
     "data": {
      "text/plain": [
       "Text(0.5,1,'Cumulative Variance Explained')"
      ]
     },
     "execution_count": 18,
     "metadata": {},
     "output_type": "execute_result"
    },
    {
     "data": {
      "image/png": "[encoded data removed]",
      "text/plain": [
       "<matplotlib.figure.Figure at 0x26e08240320>"
      ]
     },
     "metadata": {},
     "output_type": "display_data"
    }
   ],
   "source": [
    "# Plot\n",
    "import numpy as np\n",
    "import matplotlib.pyplot as plt\n",
    "x=['PC %s' %i for i in range(1,151)]\n",
    "\n",
    "plt.plot(exp_Var, linestyle='-', marker = 'o', color='b', markersize=5)\n",
    "plt.xlabel('Number of Principal Components')\n",
    "plt.ylabel('Variance')\n",
    "plt.title('Cumulative Variance Explained')\n"
   ]
  },
  {
   "cell_type": "markdown",
   "metadata": {},
   "source": [
    "According to plot above first 50 principal components explain more than 80% of the variance. But to be on the safe side we can take 75 components too. Both will be tried."
   ]
  },
  {
   "cell_type": "code",
   "execution_count": 60,
   "metadata": {},
   "outputs": [
    {
     "name": "stdout",
     "output_type": "stream",
     "text": [
      "First 50 components explains 0.825308 percentage of the variance in the data\n",
      "First 75 components explains 0.883298 percantage of the variance in the data\n",
      "Time Passed: 6.853235 s\n"
     ]
    }
   ],
   "source": [
    "# PCA\n",
    "from sklearn.decomposition import PCA\n",
    "\n",
    "t0 = time.time()\n",
    "pca50 = PCA(n_components=50)\n",
    "pca75 = PCA(n_components=75)\n",
    "pca50.fit(X_train) \n",
    "pca75.fit(X_train) \n",
    "X_train_trans50 = pca50.transform(X_train) \n",
    "X_test_trans = pca50.transform(X_test)\n",
    "X_train_trans75 = pca75.transform(X_train) \n",
    "exp_Var50 = pca50.explained_variance_ratio_.cumsum()\n",
    "exp_Var75 = pca75.explained_variance_ratio_.cumsum()\n",
    "print(\"First 50 components explains %f percentage of the variance in the data\"%exp_Var50[-1])\n",
    "print(\"First 75 components explains %f percantage of the variance in the data\"%exp_Var75[-1])\n",
    "print(\"Time Passed: %f s\"%(time.time()-t0))"
   ]
  },
  {
   "cell_type": "markdown",
   "metadata": {},
   "source": [
    "Initialization of embedding is chosen as PCA since it is said to be more globally stable than random initialization [22]"
   ]
  },
  {
   "cell_type": "code",
   "execution_count": 20,
   "metadata": {},
   "outputs": [
    {
     "name": "stdout",
     "output_type": "stream",
     "text": [
      "Time Passed: 10001.059793 s\n"
     ]
    }
   ],
   "source": [
    "# tSNE\n",
    "tsne = TSNE(n_components=3, init='pca', random_state=42)\n",
    "start = clock()\n",
    "tsne_results50 = tsne.fit_transform(X_train_trans50)\n",
    "#tsne_results75 = tsne.fit_transform(X_train_trans75)\n",
    "print(\"Time Passed: %f s\"%(time.time()-t0))"
   ]
  },
  {
   "cell_type": "code",
   "execution_count": 33,
   "metadata": {},
   "outputs": [],
   "source": [
    "# open a (new) file to write\n",
    "outF = open(\"tsne_results50.txt\", \"w\")\n",
    "for line in tsne_results50:\n",
    "     outF.writelines(str(line))\n",
    "#close file\n",
    "outF.close()"
   ]
  },
  {
   "cell_type": "code",
   "execution_count": 34,
   "metadata": {},
   "outputs": [
    {
     "name": "stdout",
     "output_type": "stream",
     "text": [
      "[[ 16.640875     7.272221     4.5193267 ]\n",
      " [ -9.692024    10.4284935    7.6380982 ]\n",
      " [ -4.4752874   -6.928149    -6.3486004 ]\n",
      " ...\n",
      " [-15.95446     -3.5219615   -9.217222  ]\n",
      " [ -0.07323801   1.9646802  -13.3457575 ]\n",
      " [  7.1000295   -2.1199512   11.037359  ]]\n"
     ]
    }
   ],
   "source": [
    "import pickle\n",
    "with open('tsne_results50_OUT', 'wb') as fp:\n",
    "    pickle.dump(tsne_results50, fp)\n",
    "    \n",
    "with open ('tsne_results50_OUT', 'rb') as fp:\n",
    "    tsne_results50_reread = pickle.load(fp)\n",
    "    \n",
    "print(tsne_results50_reread)"
   ]
  },
  {
   "cell_type": "markdown",
   "metadata": {},
   "source": [
    "When compared to PCA, t-SNE is computationally expensive. So, only first 50 PCA transformed vectors is passed to the t-SNE reduction. The resulting vectors will be used is SVM algorithm. For perfomance comparision the same procedure will be applied to the test set."
   ]
  },
  {
   "cell_type": "code",
   "execution_count": 37,
   "metadata": {},
   "outputs": [
    {
     "ename": "KeyboardInterrupt",
     "evalue": "",
     "output_type": "error",
     "traceback": [
      "\u001b[1;31m---------------------------------------------------------------------------\u001b[0m",
      "\u001b[1;31mKeyboardInterrupt\u001b[0m                         Traceback (most recent call last)",
      "\u001b[1;32m<ipython-input-37-d325e10b8bfc>\u001b[0m in \u001b[0;36m<module>\u001b[1;34m()\u001b[0m\n\u001b[0;32m      3\u001b[0m \u001b[0mtsne\u001b[0m \u001b[1;33m=\u001b[0m \u001b[0mTSNE\u001b[0m\u001b[1;33m(\u001b[0m\u001b[0mn_components\u001b[0m\u001b[1;33m=\u001b[0m\u001b[1;36m3\u001b[0m\u001b[1;33m,\u001b[0m \u001b[0minit\u001b[0m\u001b[1;33m=\u001b[0m\u001b[1;34m'pca'\u001b[0m\u001b[1;33m,\u001b[0m \u001b[0mrandom_state\u001b[0m\u001b[1;33m=\u001b[0m\u001b[1;36m42\u001b[0m\u001b[1;33m)\u001b[0m\u001b[1;33m\u001b[0m\u001b[0m\n\u001b[0;32m      4\u001b[0m \u001b[0mstart\u001b[0m \u001b[1;33m=\u001b[0m \u001b[0mclock\u001b[0m\u001b[1;33m(\u001b[0m\u001b[1;33m)\u001b[0m\u001b[1;33m\u001b[0m\u001b[0m\n\u001b[1;32m----> 5\u001b[1;33m \u001b[0mtsne_TESTresults50\u001b[0m \u001b[1;33m=\u001b[0m \u001b[0mtsne\u001b[0m\u001b[1;33m.\u001b[0m\u001b[0mfit_transform\u001b[0m\u001b[1;33m(\u001b[0m\u001b[0mX_test_trans50\u001b[0m \u001b[1;33m)\u001b[0m\u001b[1;33m\u001b[0m\u001b[0m\n\u001b[0m\u001b[0;32m      6\u001b[0m \u001b[1;31m#tsne_results75 = tsne.fit_transform(X_train_trans75)\u001b[0m\u001b[1;33m\u001b[0m\u001b[1;33m\u001b[0m\u001b[0m\n\u001b[0;32m      7\u001b[0m \u001b[0mprint\u001b[0m\u001b[1;33m(\u001b[0m\u001b[1;34m\"Time Passed: %f s\"\u001b[0m\u001b[1;33m%\u001b[0m\u001b[1;33m(\u001b[0m\u001b[0mtime\u001b[0m\u001b[1;33m.\u001b[0m\u001b[0mtime\u001b[0m\u001b[1;33m(\u001b[0m\u001b[1;33m)\u001b[0m\u001b[1;33m-\u001b[0m\u001b[0mt0\u001b[0m\u001b[1;33m)\u001b[0m\u001b[1;33m)\u001b[0m\u001b[1;33m\u001b[0m\u001b[0m\n",
      "\u001b[1;32m~\\AppData\\Roaming\\Python\\Python36\\site-packages\\sklearn\\manifold\\t_sne.py\u001b[0m in \u001b[0;36mfit_transform\u001b[1;34m(self, X, y)\u001b[0m\n\u001b[0;32m    856\u001b[0m             \u001b[0mEmbedding\u001b[0m \u001b[0mof\u001b[0m \u001b[0mthe\u001b[0m \u001b[0mtraining\u001b[0m \u001b[0mdata\u001b[0m \u001b[1;32min\u001b[0m \u001b[0mlow\u001b[0m\u001b[1;33m-\u001b[0m\u001b[0mdimensional\u001b[0m \u001b[0mspace\u001b[0m\u001b[1;33m.\u001b[0m\u001b[1;33m\u001b[0m\u001b[0m\n\u001b[0;32m    857\u001b[0m         \"\"\"\n\u001b[1;32m--> 858\u001b[1;33m         \u001b[0membedding\u001b[0m \u001b[1;33m=\u001b[0m \u001b[0mself\u001b[0m\u001b[1;33m.\u001b[0m\u001b[0m_fit\u001b[0m\u001b[1;33m(\u001b[0m\u001b[0mX\u001b[0m\u001b[1;33m)\u001b[0m\u001b[1;33m\u001b[0m\u001b[0m\n\u001b[0m\u001b[0;32m    859\u001b[0m         \u001b[0mself\u001b[0m\u001b[1;33m.\u001b[0m\u001b[0membedding_\u001b[0m \u001b[1;33m=\u001b[0m \u001b[0membedding\u001b[0m\u001b[1;33m\u001b[0m\u001b[0m\n\u001b[0;32m    860\u001b[0m         \u001b[1;32mreturn\u001b[0m \u001b[0mself\u001b[0m\u001b[1;33m.\u001b[0m\u001b[0membedding_\u001b[0m\u001b[1;33m\u001b[0m\u001b[0m\n",
      "\u001b[1;32m~\\AppData\\Roaming\\Python\\Python36\\site-packages\\sklearn\\manifold\\t_sne.py\u001b[0m in \u001b[0;36m_fit\u001b[1;34m(self, X, skip_num_points)\u001b[0m\n\u001b[0;32m    768\u001b[0m                           \u001b[0mX_embedded\u001b[0m\u001b[1;33m=\u001b[0m\u001b[0mX_embedded\u001b[0m\u001b[1;33m,\u001b[0m\u001b[1;33m\u001b[0m\u001b[0m\n\u001b[0;32m    769\u001b[0m                           \u001b[0mneighbors\u001b[0m\u001b[1;33m=\u001b[0m\u001b[0mneighbors_nn\u001b[0m\u001b[1;33m,\u001b[0m\u001b[1;33m\u001b[0m\u001b[0m\n\u001b[1;32m--> 770\u001b[1;33m                           skip_num_points=skip_num_points)\n\u001b[0m\u001b[0;32m    771\u001b[0m \u001b[1;33m\u001b[0m\u001b[0m\n\u001b[0;32m    772\u001b[0m     \u001b[1;33m@\u001b[0m\u001b[0mproperty\u001b[0m\u001b[1;33m\u001b[0m\u001b[0m\n",
      "\u001b[1;32m~\\AppData\\Roaming\\Python\\Python36\\site-packages\\sklearn\\manifold\\t_sne.py\u001b[0m in \u001b[0;36m_tsne\u001b[1;34m(self, P, degrees_of_freedom, n_samples, X_embedded, neighbors, skip_num_points)\u001b[0m\n\u001b[0;32m    810\u001b[0m         \u001b[0mP\u001b[0m \u001b[1;33m*=\u001b[0m \u001b[0mself\u001b[0m\u001b[1;33m.\u001b[0m\u001b[0mearly_exaggeration\u001b[0m\u001b[1;33m\u001b[0m\u001b[0m\n\u001b[0;32m    811\u001b[0m         params, kl_divergence, it = _gradient_descent(obj_func, params,\n\u001b[1;32m--> 812\u001b[1;33m                                                       **opt_args)\n\u001b[0m\u001b[0;32m    813\u001b[0m         \u001b[1;32mif\u001b[0m \u001b[0mself\u001b[0m\u001b[1;33m.\u001b[0m\u001b[0mverbose\u001b[0m\u001b[1;33m:\u001b[0m\u001b[1;33m\u001b[0m\u001b[0m\n\u001b[0;32m    814\u001b[0m             print(\"[t-SNE] KL divergence after %d iterations with early \"\n",
      "\u001b[1;32m~\\AppData\\Roaming\\Python\\Python36\\site-packages\\sklearn\\manifold\\t_sne.py\u001b[0m in \u001b[0;36m_gradient_descent\u001b[1;34m(objective, p0, it, n_iter, n_iter_check, n_iter_without_progress, momentum, learning_rate, min_gain, min_grad_norm, verbose, args, kwargs)\u001b[0m\n\u001b[0;32m    337\u001b[0m     \u001b[0mtic\u001b[0m \u001b[1;33m=\u001b[0m \u001b[0mtime\u001b[0m\u001b[1;33m(\u001b[0m\u001b[1;33m)\u001b[0m\u001b[1;33m\u001b[0m\u001b[0m\n\u001b[0;32m    338\u001b[0m     \u001b[1;32mfor\u001b[0m \u001b[0mi\u001b[0m \u001b[1;32min\u001b[0m \u001b[0mrange\u001b[0m\u001b[1;33m(\u001b[0m\u001b[0mit\u001b[0m\u001b[1;33m,\u001b[0m \u001b[0mn_iter\u001b[0m\u001b[1;33m)\u001b[0m\u001b[1;33m:\u001b[0m\u001b[1;33m\u001b[0m\u001b[0m\n\u001b[1;32m--> 339\u001b[1;33m         \u001b[0merror\u001b[0m\u001b[1;33m,\u001b[0m \u001b[0mgrad\u001b[0m \u001b[1;33m=\u001b[0m \u001b[0mobjective\u001b[0m\u001b[1;33m(\u001b[0m\u001b[0mp\u001b[0m\u001b[1;33m,\u001b[0m \u001b[1;33m*\u001b[0m\u001b[0margs\u001b[0m\u001b[1;33m,\u001b[0m \u001b[1;33m**\u001b[0m\u001b[0mkwargs\u001b[0m\u001b[1;33m)\u001b[0m\u001b[1;33m\u001b[0m\u001b[0m\n\u001b[0m\u001b[0;32m    340\u001b[0m         \u001b[0mgrad_norm\u001b[0m \u001b[1;33m=\u001b[0m \u001b[0mlinalg\u001b[0m\u001b[1;33m.\u001b[0m\u001b[0mnorm\u001b[0m\u001b[1;33m(\u001b[0m\u001b[0mgrad\u001b[0m\u001b[1;33m)\u001b[0m\u001b[1;33m\u001b[0m\u001b[0m\n\u001b[0;32m    341\u001b[0m \u001b[1;33m\u001b[0m\u001b[0m\n",
      "\u001b[1;32m~\\AppData\\Roaming\\Python\\Python36\\site-packages\\sklearn\\manifold\\t_sne.py\u001b[0m in \u001b[0;36m_kl_divergence_bh\u001b[1;34m(params, P, degrees_of_freedom, n_samples, n_components, angle, skip_num_points, verbose)\u001b[0m\n\u001b[0;32m    246\u001b[0m                                       \u001b[0mgrad\u001b[0m\u001b[1;33m,\u001b[0m \u001b[0mangle\u001b[0m\u001b[1;33m,\u001b[0m \u001b[0mn_components\u001b[0m\u001b[1;33m,\u001b[0m \u001b[0mverbose\u001b[0m\u001b[1;33m,\u001b[0m\u001b[1;33m\u001b[0m\u001b[0m\n\u001b[0;32m    247\u001b[0m                                       dof=degrees_of_freedom)\n\u001b[1;32m--> 248\u001b[1;33m     \u001b[0mc\u001b[0m \u001b[1;33m=\u001b[0m \u001b[1;36m2.0\u001b[0m \u001b[1;33m*\u001b[0m \u001b[1;33m(\u001b[0m\u001b[0mdegrees_of_freedom\u001b[0m \u001b[1;33m+\u001b[0m \u001b[1;36m1.0\u001b[0m\u001b[1;33m)\u001b[0m \u001b[1;33m/\u001b[0m \u001b[0mdegrees_of_freedom\u001b[0m\u001b[1;33m\u001b[0m\u001b[0m\n\u001b[0m\u001b[0;32m    249\u001b[0m     \u001b[0mgrad\u001b[0m \u001b[1;33m=\u001b[0m \u001b[0mgrad\u001b[0m\u001b[1;33m.\u001b[0m\u001b[0mravel\u001b[0m\u001b[1;33m(\u001b[0m\u001b[1;33m)\u001b[0m\u001b[1;33m\u001b[0m\u001b[0m\n\u001b[0;32m    250\u001b[0m     \u001b[0mgrad\u001b[0m \u001b[1;33m*=\u001b[0m \u001b[0mc\u001b[0m\u001b[1;33m\u001b[0m\u001b[0m\n",
      "\u001b[1;31mKeyboardInterrupt\u001b[0m: "
     ]
    }
   ],
   "source": [
    "# PCA + tSNE on X_test\n",
    "X_test_trans50 = pca50.transform(X_test) \n",
    "tsne = TSNE(n_components=3, init='pca', random_state=42)\n",
    "start = clock()\n",
    "tsne_TESTresults50 = tsne.fit_transform(X_test_trans50 )\n",
    "#tsne_results75 = tsne.fit_transform(X_train_trans75)\n",
    "print(\"Time Passed: %f s\"%(time.time()-t0))\n",
    "\n",
    "# open a (new) file to write\n",
    "outF = open(\"tsne_TESTresults50.txt\", \"w\")\n",
    "for line in tsne_results50:\n",
    "     outF.writelines(str(line))\n",
    "#close file\n",
    "outF.close()\n",
    "\n",
    "import pickle\n",
    "with open('tsne_TESTresults50_OUT', 'wb') as fp:\n",
    "    pickle.dump(tsne_results50, fp)\n",
    "    "
   ]
  },
  {
   "cell_type": "markdown",
   "metadata": {},
   "source": [
    "After running the chunk above once and obtaining the t-SNE transformed embedding vectors for the test set, it ran again by accident. Hopefully, the vectors were pickled to an output file. The recovered vectors are listed below."
   ]
  },
  {
   "cell_type": "code",
   "execution_count": 39,
   "metadata": {},
   "outputs": [
    {
     "name": "stdout",
     "output_type": "stream",
     "text": [
      "[[ 16.640875     7.272221     4.5193267 ]\n",
      " [ -9.692024    10.4284935    7.6380982 ]\n",
      " [ -4.4752874   -6.928149    -6.3486004 ]\n",
      " ...\n",
      " [-15.95446     -3.5219615   -9.217222  ]\n",
      " [ -0.07323801   1.9646802  -13.3457575 ]\n",
      " [  7.1000295   -2.1199512   11.037359  ]]\n"
     ]
    }
   ],
   "source": [
    "with open ('tsne_TESTresults50_OUT', 'rb') as fp:\n",
    "    tsne_TESTresults50 = pickle.load(fp)\n",
    "    \n",
    "print(tsne_TESTresults50)"
   ]
  },
  {
   "cell_type": "markdown",
   "metadata": {},
   "source": [
    "## SVM on MNIST Dataset\n",
    "\n",
    "Support vector machines (SVMs) are also used for classification. However, when number of features is much greater than the number of samples they are prone to over-fitting. That is why dimensionality reduction is applied before classification with SVM algorithm."
   ]
  },
  {
   "cell_type": "code",
   "execution_count": 43,
   "metadata": {},
   "outputs": [
    {
     "name": "stdout",
     "output_type": "stream",
     "text": [
      "Time Passed: 35434.652950 s\n"
     ]
    }
   ],
   "source": [
    "from sklearn.svm import SVC\n",
    "clf_C1 = SVC(kernel = \"linear\", C=1) #regularization parameter is chosen as default (i.e C=1)\n",
    "start = clock()\n",
    "clf_C1 = clf_C1.fit(tsne_results50, y_train) #fit the model on the t-SNE transformed vectors\n",
    "print(\"Time Passed: %f s\"%(time.time()-t0))"
   ]
  },
  {
   "cell_type": "code",
   "execution_count": 54,
   "metadata": {},
   "outputs": [
    {
     "name": "stdout",
     "output_type": "stream",
     "text": [
      "Classification report for SVC(C=1, cache_size=200, class_weight=None, coef0=0.0,\n",
      "  decision_function_shape='ovr', degree=3, gamma='auto', kernel='linear',\n",
      "  max_iter=-1, probability=False, random_state=None, shrinking=True,\n",
      "  tol=0.001, verbose=False)\n",
      "\n",
      "Accuracy Score\n",
      "0.1969\n",
      "\n",
      "             precision    recall  f1-score   support\n",
      "\n",
      "        0.0       0.17      0.19      0.18       986\n",
      "        1.0       0.11      0.13      0.12      1125\n",
      "        2.0       0.00      0.00      0.00       999\n",
      "        3.0       0.00      0.00      0.00      1020\n",
      "        4.0       0.00      0.00      0.00       975\n",
      "        5.0       0.79      0.91      0.85       902\n",
      "        6.0       0.07      0.07      0.07       982\n",
      "        7.0       0.02      0.02      0.02      1042\n",
      "        8.0       0.84      0.74      0.79       975\n",
      "        9.0       0.01      0.01      0.01       994\n",
      "\n",
      "avg / total       0.19      0.20      0.19     10000\n",
      "\n",
      "\n",
      "Confusion matrix\n",
      "[[187   1   0   2   0   1 794   0   1   0]\n",
      " [  1 144   0   3   0   0   1 967   1   8]\n",
      " [  3  16   1   0 599   2  57   8   9 304]\n",
      " [  0   9   0   3 185 131  19   7  61 605]\n",
      " [  6  15 542 377   0   0   1   3  27   4]\n",
      " [ 15   6   4  19   8 817  17   1  13   2]\n",
      " [901   0   1   1   0   4  73   2   0   0]\n",
      " [  1 992  12  11   2   0   1  16   6   1]\n",
      " [  6   8   9   8   7  65   7  33 718 114]\n",
      " [  1  90 478 373   2   9   5   8  18  10]]\n"
     ]
    }
   ],
   "source": [
    "from sklearn import metrics\n",
    "from sklearn.metrics import accuracy_score\n",
    "y_predicted = clf_C1.predict(tsne_TESTresults50)\n",
    "\n",
    "# performance\n",
    "print(\"Classification report for %s\" % clf_C1)\n",
    "print()\n",
    "print(\"Accuracy Score\")\n",
    "print(accuracy_score(y_test, y_predicted))\n",
    "print()\n",
    "print(metrics.classification_report(y_test, y_predicted))\n",
    "print()\n",
    "print(\"Confusion matrix\")\n",
    "print(metrics.confusion_matrix(y_test, y_predicted))"
   ]
  },
  {
   "cell_type": "markdown",
   "metadata": {},
   "source": [
    "SVM with linear kernel and  C = 1 has low sensivity and low positive predictive value. Upon tuning C-parameter the model might be improved. "
   ]
  },
  {
   "cell_type": "code",
   "execution_count": 55,
   "metadata": {},
   "outputs": [
    {
     "name": "stdout",
     "output_type": "stream",
     "text": [
      "Time Passed: 40753.595985 s\n",
      "Classification report for SVC(C=0.1, cache_size=200, class_weight=None, coef0=0.0,\n",
      "  decision_function_shape='ovr', degree=3, gamma='auto', kernel='linear',\n",
      "  max_iter=-1, probability=False, random_state=None, shrinking=True,\n",
      "  tol=0.001, verbose=False)\n",
      "\n",
      "Accuracy Score\n",
      "0.1968\n",
      "\n",
      "Classification Report\n",
      "             precision    recall  f1-score   support\n",
      "\n",
      "        0.0       0.17      0.19      0.18       986\n",
      "        1.0       0.11      0.13      0.12      1125\n",
      "        2.0       0.00      0.00      0.00       999\n",
      "        3.0       0.00      0.00      0.00      1020\n",
      "        4.0       0.00      0.00      0.00       975\n",
      "        5.0       0.79      0.91      0.85       902\n",
      "        6.0       0.07      0.07      0.07       982\n",
      "        7.0       0.02      0.02      0.02      1042\n",
      "        8.0       0.84      0.74      0.79       975\n",
      "        9.0       0.01      0.01      0.01       994\n",
      "\n",
      "avg / total       0.19      0.20      0.19     10000\n",
      "\n",
      "\n",
      "Confusion matrix\n",
      "[[186   1   0   2   0   1 795   0   1   0]\n",
      " [  1 144   0   3   0   0   1 967   1   8]\n",
      " [  3  16   1   0 598   2  57   8   9 305]\n",
      " [  0   9   0   3 183 131  19   7  61 607]\n",
      " [  6  15 542 377   0   0   1   3  27   4]\n",
      " [ 15   6   4  19   8 817  17   1  13   2]\n",
      " [901   0   1   1   0   4  73   2   0   0]\n",
      " [  1 992  12  11   2   0   1  16   6   1]\n",
      " [  6   8   9   8   7  65   7  32 718 115]\n",
      " [  1  90 477 374   2   9   5   8  18  10]]\n"
     ]
    }
   ],
   "source": [
    "clf_C01 = SVC(kernel = \"linear\", C=0.1) #regularization parameter is chosen as default (i.e C=1)\n",
    "start = clock()\n",
    "clf_C01 = clf_C01.fit(tsne_results50, y_train) #fit the model on the PCA transformed 50 vectors\n",
    "print(\"Time Passed: %f s\"%(time.time()-t0))\n",
    "y_predicted01 = clf_C01.predict(tsne_TESTresults50)\n",
    "\n",
    "# performance\n",
    "print(\"Classification report for %s\" % clf_C01)\n",
    "print()\n",
    "print(\"Accuracy Score\")\n",
    "print(accuracy_score(y_test, y_predicted01))\n",
    "print()\n",
    "print(\"Classification Report\")\n",
    "print(metrics.classification_report(y_test, y_predicted01))\n",
    "print()\n",
    "print(\"Confusion matrix\")\n",
    "print(metrics.confusion_matrix(y_test, y_predicted01))"
   ]
  },
  {
   "cell_type": "markdown",
   "metadata": {},
   "source": [
    "The parameter C controls the trade-off between the margin and the size of the slack variables. Unfortunately decreasing C to for SVM to loose the classification error didn't help. Increasing C to 10 to harden the margins didn't work either."
   ]
  },
  {
   "cell_type": "code",
   "execution_count": 56,
   "metadata": {},
   "outputs": [
    {
     "name": "stdout",
     "output_type": "stream",
     "text": [
      "Time Passed: 41226.192374 s\n",
      "Classification report for SVC(C=10, cache_size=200, class_weight=None, coef0=0.0,\n",
      "  decision_function_shape='ovr', degree=3, gamma='auto', kernel='linear',\n",
      "  max_iter=-1, probability=False, random_state=None, shrinking=True,\n",
      "  tol=0.001, verbose=False)\n",
      "\n",
      "Accuracy Score\n",
      "0.1968\n",
      "\n",
      "Classification Report\n",
      "             precision    recall  f1-score   support\n",
      "\n",
      "        0.0       0.17      0.19      0.18       986\n",
      "        1.0       0.11      0.13      0.12      1125\n",
      "        2.0       0.00      0.00      0.00       999\n",
      "        3.0       0.00      0.00      0.00      1020\n",
      "        4.0       0.00      0.00      0.00       975\n",
      "        5.0       0.79      0.91      0.85       902\n",
      "        6.0       0.07      0.07      0.07       982\n",
      "        7.0       0.02      0.02      0.02      1042\n",
      "        8.0       0.84      0.74      0.79       975\n",
      "        9.0       0.01      0.01      0.01       994\n",
      "\n",
      "avg / total       0.19      0.20      0.19     10000\n",
      "\n",
      "\n",
      "Confusion matrix\n",
      "[[187   1   0   2   0   1 794   0   1   0]\n",
      " [  1 144   0   3   0   0   1 967   1   8]\n",
      " [  3  16   1   0 598   2  57   8   9 305]\n",
      " [  0   9   0   3 183 130  19   7  61 608]\n",
      " [  6  15 542 377   0   0   1   3  27   4]\n",
      " [ 15   6   4  19   8 817  17   1  13   2]\n",
      " [902   0   1   1   0   4  72   2   0   0]\n",
      " [  1 992  12  11   2   0   1  16   6   1]\n",
      " [  6   8   9   8   7  65   7  33 718 114]\n",
      " [  1  89 479 373   2   9   5   8  18  10]]\n"
     ]
    }
   ],
   "source": [
    "clf_C10 = SVC(kernel = \"linear\", C=10) #regularization parameter is chosen as default (i.e C=1)\n",
    "start = clock()\n",
    "clf_C10 = clf_C10.fit(tsne_results50, y_train) #fit the model on the t-SNE transformed vectors\n",
    "print(\"Time Passed: %f s\"%(time.time()-t0))\n",
    "y_predicted10 = clf_C10.predict(tsne_TESTresults50)\n",
    "\n",
    "# performance\n",
    "print(\"Classification report for %s\" % clf_C10)\n",
    "print()\n",
    "print(\"Accuracy Score\")\n",
    "print(accuracy_score(y_test, y_predicted10))\n",
    "print()\n",
    "print(\"Classification Report\")\n",
    "print(metrics.classification_report(y_test, y_predicted10))\n",
    "print()\n",
    "print(\"Confusion matrix\")\n",
    "print(metrics.confusion_matrix(y_test, y_predicted10))"
   ]
  },
  {
   "cell_type": "markdown",
   "metadata": {},
   "source": [
    "Stacking PCA and t-SNE together didn't resulted well for MNIST dataset as seen from the off-diagonal terms of the confusion matrix. 0.1, 1 and 10 is chosen for C in SVM with linear kernels. All models gave a precision of 19% and a recall of 20%. This poor performance might be due to not tuning the learning rate. Alternatively, just using 3 embedding vectors was not enough to represent all the features in the data. Since t-SNE works slow on MNIST set I didn't experiment more with the algorithm, it is totaly taken out of the game."
   ]
  },
  {
   "cell_type": "markdown",
   "metadata": {},
   "source": [
    "### PCA (w/ 50 PCs) + SVM with Linear and RBF Kernels\n",
    "\n",
    "Instead of stacking PCA with t-SNE, PCA reduced vectors directly given to the SVM classifier. The results are improved when first 50 principal components are used. Remember that they were able to explain more than 80% of the variance in the data.\n",
    "\n",
    "#### Linear Kernel\n",
    "\n",
    "When just PCA is used, an accuracy score of 93% is obtained. Recall is also boosted to 93%. But there is still a number of false positives and false negatives."
   ]
  },
  {
   "cell_type": "code",
   "execution_count": 63,
   "metadata": {},
   "outputs": [
    {
     "name": "stdout",
     "output_type": "stream",
     "text": [
      "Time Passed: 7220.950648 s\n",
      "Classification report for SVC(C=0.1, cache_size=200, class_weight=None, coef0=0.0,\n",
      "  decision_function_shape='ovr', degree=3, gamma='auto', kernel='linear',\n",
      "  max_iter=-1, probability=False, random_state=None, shrinking=True,\n",
      "  tol=0.001, verbose=False)\n",
      "\n",
      "Accuracy Score\n",
      "0.9323\n",
      "\n",
      "Classification Report\n",
      "             precision    recall  f1-score   support\n",
      "\n",
      "        0.0       0.95      0.98      0.97       986\n",
      "        1.0       0.96      0.99      0.97      1125\n",
      "        2.0       0.93      0.92      0.92       999\n",
      "        3.0       0.90      0.91      0.90      1020\n",
      "        4.0       0.92      0.94      0.93       975\n",
      "        5.0       0.90      0.89      0.90       902\n",
      "        6.0       0.95      0.97      0.96       982\n",
      "        7.0       0.95      0.95      0.95      1042\n",
      "        8.0       0.93      0.89      0.91       975\n",
      "        9.0       0.92      0.89      0.90       994\n",
      "\n",
      "avg / total       0.93      0.93      0.93     10000\n",
      "\n",
      "\n",
      "Confusion matrix\n",
      "[[ 966    0    0    2    3    6    3    0    6    0]\n",
      " [   1 1111    3    4    0    0    0    1    3    2]\n",
      " [   9    6  917   13   15    3   12    9   13    2]\n",
      " [   5    3   19  926    0   33    3   14   16    1]\n",
      " [   2    1    3    0  917    1    7    3    1   40]\n",
      " [   8    3    8   39    3  800   14    2   16    9]\n",
      " [   9    0    8    0    3    8  951    0    3    0]\n",
      " [   2    7   10    3    9    1    0  986    4   20]\n",
      " [   7   15   12   26    4   27   11    5  863    5]\n",
      " [   5   12    4   19   39    5    0   20    4  886]]\n"
     ]
    }
   ],
   "source": [
    "clf= SVC(kernel = \"linear\", C=0.1) #regularization parameter is chosen as default (i.e C=1)\n",
    "start = clock()\n",
    "#X_testTrans= pca50.transform(X_test)\n",
    "clf = clf.fit(X_train_trans50, y_train) #fit the model \n",
    "print(\"Time Passed: %f s\"%(time.time()-t0))\n",
    "y_predictedPCA = clf.predict(X_test_trans)\n",
    "\n",
    "# performance\n",
    "print(\"Classification report for %s\" % clf)\n",
    "print()\n",
    "print(\"Accuracy Score\")\n",
    "print(accuracy_score(y_test, y_predictedPCA))\n",
    "print()\n",
    "print(\"Classification Report\")\n",
    "print(metrics.classification_report(y_test, y_predictedPCA))\n",
    "print()\n",
    "print(\"Confusion matrix\")\n",
    "print(metrics.confusion_matrix(y_test, y_predictedPCA))"
   ]
  },
  {
   "cell_type": "markdown",
   "metadata": {},
   "source": [
    "### SVM RBF Kernel with 50 PCs\n",
    "\n",
    "Since RBF kernel is a non-linear kernel it captures features of the digits better than the linear kernel. When 50 PCs are passed to the SVM classifier precision, recall and F1 score which is a weighted average of first two, are all increased to 97%. I think this is the success on non-linear kernel working on MNIST."
   ]
  },
  {
   "cell_type": "code",
   "execution_count": 64,
   "metadata": {},
   "outputs": [
    {
     "name": "stdout",
     "output_type": "stream",
     "text": [
      "Time Passed: 7423.275108 s\n",
      "Classification report for SVC(C=0.1, cache_size=200, class_weight=None, coef0=0.0,\n",
      "  decision_function_shape='ovr', degree=3, gamma='auto', kernel='rbf',\n",
      "  max_iter=-1, probability=False, random_state=None, shrinking=True,\n",
      "  tol=0.001, verbose=False)\n",
      "\n",
      "Accuracy Score\n",
      "0.9654\n",
      "\n",
      "Classification Report\n",
      "             precision    recall  f1-score   support\n",
      "\n",
      "        0.0       0.98      0.99      0.98       986\n",
      "        1.0       0.98      0.98      0.98      1125\n",
      "        2.0       0.97      0.96      0.97       999\n",
      "        3.0       0.96      0.95      0.96      1020\n",
      "        4.0       0.97      0.96      0.96       975\n",
      "        5.0       0.97      0.96      0.96       902\n",
      "        6.0       0.97      0.98      0.98       982\n",
      "        7.0       0.97      0.96      0.96      1042\n",
      "        8.0       0.96      0.96      0.96       975\n",
      "        9.0       0.94      0.94      0.94       994\n",
      "\n",
      "avg / total       0.97      0.97      0.97     10000\n",
      "\n",
      "\n",
      "Confusion matrix\n",
      "[[ 975    1    0    0    1    1    4    0    3    1]\n",
      " [   0 1108    6    3    0    2    0    1    2    3]\n",
      " [   5    2  961    4    9    0    2    9    6    1]\n",
      " [   1    2    5  970    0   14    3   11   12    2]\n",
      " [   0    0    2    0  939    0    5    1    0   28]\n",
      " [   4    0    3    8    1  867   10    2    2    5]\n",
      " [   5    0    2    0    2    3  965    0    5    0]\n",
      " [   2    6    9    1    4    1    0 1002    1   16]\n",
      " [   1    6    2    7    2    9    4    3  935    6]\n",
      " [   5    7    1   18   15    1    0    8    7  932]]\n"
     ]
    }
   ],
   "source": [
    "clf2= SVC( C=0.1) #regularization parameter is chosen as default (i.e C=1)\n",
    "start = clock()\n",
    "#X_testTrans= pca50.transform(X_test)\n",
    "clf2 = clf2.fit(X_train_trans50, y_train) #fit the model on the PCA transformed vectors\n",
    "print(\"Time Passed: %f s\"%(time.time()-t0))\n",
    "y_predictedPCA2 = clf2.predict(X_test_trans)\n",
    "\n",
    "# performance\n",
    "print(\"Classification report for %s\" % clf2)\n",
    "print()\n",
    "print(\"Accuracy Score\")\n",
    "print(accuracy_score(y_test, y_predictedPCA2))\n",
    "print()\n",
    "print(\"Classification Report\")\n",
    "print(metrics.classification_report(y_test, y_predictedPCA2))\n",
    "print()\n",
    "print(\"Confusion matrix\")\n",
    "print(metrics.confusion_matrix(y_test, y_predictedPCA2))"
   ]
  },
  {
   "cell_type": "markdown",
   "metadata": {},
   "source": [
    "### SVM RBF Kernel with 75 PCs\n",
    "\n",
    "Interestingly when 75 principal components are passed to the same classifier, the performance degraded. This might be due to overfitting. While 50 vectors are just enough, with 75 vectors model fitted to the noise in the data."
   ]
  },
  {
   "cell_type": "code",
   "execution_count": 65,
   "metadata": {},
   "outputs": [
    {
     "name": "stdout",
     "output_type": "stream",
     "text": [
      "Time Passed: 49607.710867 s\n",
      "Classification report for SVC(C=0.1, cache_size=200, class_weight=None, coef0=0.0,\n",
      "  decision_function_shape='ovr', degree=3, gamma='auto', kernel='rbf',\n",
      "  max_iter=-1, probability=False, random_state=None, shrinking=True,\n",
      "  tol=0.001, verbose=False)\n",
      "\n",
      "Accuracy Score\n",
      "0.9596\n",
      "\n",
      "Classification Report\n",
      "             precision    recall  f1-score   support\n",
      "\n",
      "        0.0       0.97      0.99      0.98       986\n",
      "        1.0       0.98      0.98      0.98      1125\n",
      "        2.0       0.96      0.95      0.96       999\n",
      "        3.0       0.95      0.94      0.94      1020\n",
      "        4.0       0.96      0.96      0.96       975\n",
      "        5.0       0.95      0.96      0.96       902\n",
      "        6.0       0.97      0.98      0.97       982\n",
      "        7.0       0.97      0.96      0.96      1042\n",
      "        8.0       0.95      0.95      0.95       975\n",
      "        9.0       0.94      0.93      0.93       994\n",
      "\n",
      "avg / total       0.96      0.96      0.96     10000\n",
      "\n",
      "\n",
      "Confusion matrix\n",
      "[[ 974    1    1    0    1    0    2    0    6    1]\n",
      " [   0 1108    4    3    0    4    1    1    1    3]\n",
      " [   5    2  952    5   10    0    4    9   11    1]\n",
      " [   0    2   14  956    0   18    4   11   13    2]\n",
      " [   0    0    3    0  935    0    6    1    0   30]\n",
      " [   4    0    3   11    2  864   11    2    2    3]\n",
      " [   6    0    2    0    2    4  963    0    5    0]\n",
      " [   2    6    7    1    5    0    0 1001    3   17]\n",
      " [   1    8    3   10    2   13    6    3  923    6]\n",
      " [   7    8    0   18   21    2    0    9    9  920]]\n"
     ]
    }
   ],
   "source": [
    "clf3= SVC( C=0.1) #regularization parameter is chosen as default (i.e C=1)\n",
    "start = clock()\n",
    "#X_testTrans= pca50.transform(X_test)\n",
    "clf3 = clf3.fit(X_train_trans75, y_train) #fit the model on the PCA transformed vectors\n",
    "print(\"Time Passed: %f s\"%(time.time()-t0))\n",
    "y_predictedPCA3 = clf3.predict(pca75.transform(X_test))\n",
    "\n",
    "# performance\n",
    "print(\"Classification report for %s\" % clf3)\n",
    "print()\n",
    "print(\"Accuracy Score\")\n",
    "print(accuracy_score(y_test, y_predictedPCA3))\n",
    "print()\n",
    "print(\"Classification Report\")\n",
    "print(metrics.classification_report(y_test, y_predictedPCA3))\n",
    "print()\n",
    "print(\"Confusion matrix\")\n",
    "print(metrics.confusion_matrix(y_test, y_predictedPCA3))"
   ]
  },
  {
   "cell_type": "markdown",
   "metadata": {},
   "source": [
    "## CNN on MNIST Database"
   ]
  },
  {
   "attachments": {},
   "cell_type": "markdown",
   "metadata": {},
   "source": [
    "\"In machine learning, a convolutional neural network (CNN, or ConvNet) is a class of deep, feed-forward artificial neural networks, most commonly applied to analyzing visual imagery\" [23]. Differing from neural networks (NNs) which have fully connected layers, CNNs are able to take into account the spatial structure of the images. The idea of *receptive field* is borrowed from the works of Hubel and Wiesel, 1957. Networks layers are stacked over eachother inspired by the columnar structure of the neurons in the visual cortex. Each neuron in the first hidden layer will be connected to a small region of the input neurons. Each connection learns a weight and the hidden neuron learns an overall bias as well. as you go deeper into the network, the filters begin to have a larger and larger receptive field, which means that they are able to consider information from a larger area of the original input volume (another way of putting it is that they are more responsive to a larger region of pixel space). We can detect these high level features, the icing on the cake is attaching a fully connected layer to the end of the network which outputs an N dimensional vector where N is the number of classes. \n",
    "\n",
    "### Data Pre-processing\n",
    "According to Géron, the first 60000 images in the dataset of Scikit-Learn is reserved for training and the last 10000 is for test [3]. I was considering to split the set in the same way to compare prediction accuracy with the book but later I decided to split randomly. Training set further splitted for validation, too. A small fraction (15%) of the training set is reserved for validation, the rest will be used for training the model. Since the labels seems to be well balanced, one can hope that random split will not cause any over-representation of some labels in the validation set. To be on the safe side stratified splitting is enabled. "
   ]
  },
  {
   "cell_type": "code",
   "execution_count": 28,
   "metadata": {},
   "outputs": [
    {
     "name": "stdout",
     "output_type": "stream",
     "text": [
      "(51000, 784)\n",
      "(10000, 784)\n",
      "(9000, 784)\n"
     ]
    }
   ],
   "source": [
    "#X_train, X_test, y_train, y_test = X[:60000], X[60000:], y[:60000], y[60000:]\n",
    "X_train, X_test, y_train, y_test = train_test_split(X,y,test_size = testSize,stratify=y)\n",
    "X_train, X_val, y_train, y_val = train_test_split(X_train, y_train, test_size=0.15,stratify=y_train)\n",
    "print(X_train.shape)\n",
    "print(X_test.shape)\n",
    "print(X_val.shape)"
   ]
  },
  {
   "cell_type": "markdown",
   "metadata": {},
   "source": [
    "The images with 28x28 pixels are stored as flat arrays of 784 values. They need to be reshaped to square matrices before feeding CNNs. Notice that there is only one channel since the images are grayscaled."
   ]
  },
  {
   "cell_type": "code",
   "execution_count": 29,
   "metadata": {},
   "outputs": [],
   "source": [
    "X_train = X_train.reshape(-1,height,width,channels) # dimension (60000) is inferred by setting the first element to -1\n",
    "X_test = X_test.reshape(-1,height,width,channels)\n",
    "X_val = X_val.reshape(-1,height,width,channels)"
   ]
  },
  {
   "cell_type": "markdown",
   "metadata": {},
   "source": [
    "Digit labels (one, two, three,...) are nominal categorical variables, indeed. Since logical consequence of NNs is that perceptrons only work with numerical data, they should be converted to numerical variables through one-hot encoding. Thus, one boolean column for each category will be created. Only one of these columns could take on the value 1 for each sample. "
   ]
  },
  {
   "cell_type": "code",
   "execution_count": 30,
   "metadata": {},
   "outputs": [],
   "source": [
    "classNum = len(np.unique(y_train)) # number of unique labels is counted to determine the # of classes\n",
    "y_train = to_categorical(y_train, num_classes = classNum)\n",
    "#y_test = to_categorical(y_test, num_classes = classNum)\n",
    "y_val = to_categorical(y_val, num_classes = classNum)"
   ]
  },
  {
   "cell_type": "markdown",
   "metadata": {},
   "source": [
    "## CNN Model"
   ]
  },
  {
   "cell_type": "markdown",
   "metadata": {},
   "source": [
    "The CNN model is constructed via *Sequantial API* model, which is a stack of layers, of *Keras Framework*. Output of each layer is input of the next. The input image is passed to the first layer by *input_shape* argument. The neurons of a convolutional layer is not connectted to the every pixel of its input layer but only to the ones in the *receptive field*. A receptive field is rectangular area slided across the input image with defined *stride* steps. Through a filter weighted sums are calculated and feature map is created. This stacked architecture of convolutional layers makes it easy for CNN to focus on local features in the first hidden layer, then assemble them to learn more complex features in the next hidden layer. Gloabla features of the image are deduced via this combined approach.\n",
    "\n",
    "As we go deep in the network, the size of the layers shrinks (due to convolution) and network starts to ignore features at the edges (pixels with no neighbours). To avoid these both *same padding* is used. Simply a buffer layer of zeros are put around the input image, so that the size of the output layer will be the same with the input layer.\n",
    "\n",
    "While initializing shared filter weights at each convolutional layer *Truncated Normal* is used. In this initializer, the randomly chosen values belongs to normal distribution but the values more than two standard deviations from the mean are discarded and re-drawn. This is the recommended initializer for neural network weights and filters according to the Keras documentation [9].\n",
    "\n",
    "Immediately after each convolutional layer, an activation layer is applied. Here, rectified linear unit (ReLu) is used for the sake of computational efficiency (except softmax is used in the last layer). ReLu outperforms other conventional non-linear activation functions such as *sigmoid*  and *tanh* [8]. ReLu also said to be the solution of the *vanishing gradient* problem which stops the neural network from further training. In this layer f(x) = max(0, x) is applied to all of the values in the input. All negative activations is replaced by zero. So, nonlinearity is introduced to the system without affecting the receptive fields of the convolutional layer.\n",
    "\n",
    "Pooling layer is another key element of CNNs. Output of the previous layer is down-sampled to reduce computational load and number of parameters. So the risk of over-fitting is reduced somehow. Shirinking the input image also introduces a level of location invariance, so that the neural network can tolarate a little bit of image shift [2]. Here *MaxPooling* is used as aggregation function. Just like in convolutional layer, a rectangular window with defined size, padding and stride is slided across the input layer, and max input value in each kernel makes it to the next layer (2x2 with no padding and 2 strides). The others are just dropped. \n",
    "\n",
    "When a complex model fits the noise in the data instead of the underlying relationship of the features overfitting occurs. This can be avoided by a regularization technique. Here brutal *dropout* technique is employed because of its advantageous training speed[10]. Dropout consists in randomly setting a fraction rate of input units to 0 at each update during training time, which helps prevent overfitting. At every training step each neuron in the input layer has a probability to be dropped out. These ignored neurons can also be active in the next step. Network trained with dropout becomes more robust because in order to do other neurons' jobs when necessary, neurons learn to be sensitive not only to their input neurons but others' too. At the end the network generalizes better.\n",
    "\n",
    "Using an initializer with ReLU reduces the vanishing/exploiding gradient problem at the beginnig of the training but not during the training. The  input distribution of each layer changes during training as the parameters of the previous layer changes leading to a drop in the learning rate. This probles is addressed as *Internal Covariate Shift* in the 2015 paper of Ioffe and Szegedy and normalization for each training mini-batch is suggested [11]. The authors claim this method not only is a solution vanishing/exploiding gradient problem but also acts somehow as a regularization technique that eliminates the need for dropout. Upon experiment, the same effect is observed and dropout layers after convolutional layers are excluded. Before activation function of each layer inputs are zero-centered, normalized, scaled and shifted by batch-normalization scaling and shifting parameters per layer. The required means and standard deviations of the inputs for zero-centering and normalization steps are estimated from the current mini-batch.\n",
    "\n",
    "Finally the output of the last pooling layer is flattened to feed the fully connected layers at the end. High level features coming from the activation maps of the previous layer are detected. In the final *dense* layer the net output is given as probability distribution of each class. In the softmax approach the class with highest probability is chosen."
   ]
  },
  {
   "cell_type": "code",
   "execution_count": 31,
   "metadata": {},
   "outputs": [],
   "source": [
    "# parameters to be optimized\n",
    "k1 = 3 # Kernel dimension of the 1st layer\n",
    "f1 = 8 # the number of output filters in the 1st layer\n",
    "k2 = 3 # Kernel dimension of the 2nd layer\n",
    "f2 = 16 # the number of output filters in the 2nd layer\n",
    "k3 = 5 # Kernel dimension of the 3rd layer\n",
    "f3 = 32 # the number of output filters in the 3rd layer\n",
    "k4 = 5 # Kernel dimension of the 3rd layer\n",
    "f4 = 64 # the number of output filters in the 3rd layer\n",
    "d_conv = 0.5 # dropout rate of the CNN layers\n",
    "d_dense = 0.5 # dropout rate of the ANN layer\n",
    "DR = 0.01 # decay rate of the optimizer\n",
    "Epochs = 15 # \n",
    "batchSize = 128 # number of randomly taken samples from features and labels to feed into each epoch until an epoch limit is reached."
   ]
  },
  {
   "cell_type": "code",
   "execution_count": 32,
   "metadata": {},
   "outputs": [
    {
     "name": "stdout",
     "output_type": "stream",
     "text": [
      "_________________________________________________________________\n",
      "Layer (type)                 Output Shape              Param #   \n",
      "=================================================================\n",
      "conv2d_1 (Conv2D)            (None, 28, 28, 8)         80        \n",
      "_________________________________________________________________\n",
      "batch_normalization_1 (Batch (None, 28, 28, 8)         32        \n",
      "_________________________________________________________________\n",
      "conv2d_2 (Conv2D)            (None, 28, 28, 16)        1168      \n",
      "_________________________________________________________________\n",
      "max_pooling2d_1 (MaxPooling2 (None, 14, 14, 16)        0         \n",
      "_________________________________________________________________\n",
      "conv2d_3 (Conv2D)            (None, 14, 14, 32)        12832     \n",
      "_________________________________________________________________\n",
      "batch_normalization_2 (Batch (None, 14, 14, 32)        128       \n",
      "_________________________________________________________________\n",
      "conv2d_4 (Conv2D)            (None, 14, 14, 64)        51264     \n",
      "_________________________________________________________________\n",
      "batch_normalization_3 (Batch (None, 14, 14, 64)        256       \n",
      "_________________________________________________________________\n",
      "max_pooling2d_2 (MaxPooling2 (None, 7, 7, 64)          0         \n",
      "_________________________________________________________________\n",
      "flatten_1 (Flatten)          (None, 3136)              0         \n",
      "_________________________________________________________________\n",
      "dense_1 (Dense)              (None, 256)               803072    \n",
      "_________________________________________________________________\n",
      "dropout_1 (Dropout)          (None, 256)               0         \n",
      "_________________________________________________________________\n",
      "dense_2 (Dense)              (None, 10)                2570      \n",
      "=================================================================\n",
      "Total params: 871,402\n",
      "Trainable params: 871,194\n",
      "Non-trainable params: 208\n",
      "_________________________________________________________________\n"
     ]
    }
   ],
   "source": [
    "model = Sequential()\n",
    "model.add(Conv2D(filters=f1,kernel_size=(k1,k1),padding='Same',kernel_initializer=\"TruncatedNormal\",activation ='relu', \n",
    "                 input_shape = inputShape))\n",
    "model.add(BatchNormalization())\n",
    "model.add(Conv2D(filters=f2,kernel_size=(k2,k2),padding='Same',kernel_initializer=\"TruncatedNormal\",activation ='relu'))\n",
    "\n",
    "model.add(MaxPooling2D(pool_size=(2,2)))\n",
    "#model.add(Dropout(d_conv))\n",
    "\n",
    "\n",
    "model.add(Conv2D(filters = f3, kernel_size = (k3,k3),padding = 'Same', activation ='relu'))\n",
    "model.add(BatchNormalization())\n",
    "model.add(Conv2D(filters = f4, kernel_size = (k4,k4),padding = 'Same', activation ='relu'))\n",
    "model.add(BatchNormalization())\n",
    "model.add(MaxPooling2D(pool_size=(2,2)))\n",
    "#model.add(Dropout(d_conv))\n",
    "\n",
    "\n",
    "model.add(Flatten())\n",
    "model.add(Dense(256, activation = \"relu\"))\n",
    "model.add(Dropout(d_dense))\n",
    "model.add(Dense(classNum, activation = \"softmax\"))\n",
    "\n",
    "model.summary()"
   ]
  },
  {
   "cell_type": "code",
   "execution_count": 33,
   "metadata": {},
   "outputs": [],
   "source": [
    "#from keras.utils import plot_model\n",
    "#plot_model(model, to_file='model.png')"
   ]
  },
  {
   "cell_type": "markdown",
   "metadata": {},
   "source": [
    "## Compilation\n",
    "\n",
    "Before training the model, the learning process is needed to be configured. Adam optimizer, which is a combination of *Gradient Descent with momentum* and *RMSProp* is chosen because it is effective. Authors of ADAM observed that exponetial averages of past gradients and variance of the gradients (first and secon momentum) decay towars zero, so they come up with a bias correction for these terms [12]. In Keras library learning rate is updated with a reciprocal fucntion of decay rate at each *epoch* [14]. So, learning rate decreased as it get closer to the optimal solution.\n",
    "\n",
    "As a cost function *categorical cross entropy* is chosen since it penalizes bad predictions much more, producing larger gradients and thus converging faster. The cross entropy between estimated probability and target probability will be minimized. Default learning rate of Adam optimizer is defined as 0.001 in Keras. It can be decreased in every epoch  by setting a *decay* rate to ensure convergence. Alternatively, *LearningRateScheduler* can be used to decrease the learning rate by %10 at each epoch as it is in "
   ]
  },
  {
   "cell_type": "code",
   "execution_count": 34,
   "metadata": {},
   "outputs": [],
   "source": [
    "model.compile(loss=keras.losses.categorical_crossentropy,\n",
    "              optimizer=keras.optimizers.Adam(), #instead of annealer decay = DR can be set, too\n",
    "              metrics=['accuracy'])\n",
    "annealer = LearningRateScheduler(lambda x: 1e-3 * 0.9 ** x)"
   ]
  },
  {
   "cell_type": "markdown",
   "metadata": {},
   "source": [
    "## Data Augmentation\n",
    "\n",
    "To make model more robust, the data set is expanded with *ImageDataGenerator*. Noise added, images are distorted by shifting, rotating and flipping. Thes transformations are done because change in the perpective can change the apparent shape of the digits. Here images are let to rotate 20 degrees, randomly zoomed to 20%, shifted up to 20% of their height and width and flipped vertically and horizontally."
   ]
  },
  {
   "cell_type": "code",
   "execution_count": 35,
   "metadata": {},
   "outputs": [],
   "source": [
    "datagen = ImageDataGenerator(\n",
    "        rotation_range=20,  # randomly rotate images in the range (degrees, 0 to 180)\n",
    "        zoom_range = 0.2, # Randomly zoom image \n",
    "        width_shift_range=0.2,  # randomly shift images horizontally (fraction of total width)\n",
    "        height_shift_range=0.2,  # randomly shift images vertically (fraction of total height)\n",
    "        horizontal_flip=False,  # randomly flip images\n",
    "        vertical_flip=False)  # randomly flip images\n",
    "\n",
    "\n",
    "datagen.fit(X_train)"
   ]
  },
  {
   "cell_type": "code",
   "execution_count": 36,
   "metadata": {},
   "outputs": [
    {
     "name": "stdout",
     "output_type": "stream",
     "text": [
      "Epoch 1/15\n",
      "398/398 [==============================] - 210s 527ms/step - loss: 0.6379 - acc: 0.8019 - val_loss: 0.3321 - val_acc: 0.9074\n",
      "Epoch 2/15\n",
      "398/398 [==============================] - 211s 531ms/step - loss: 0.2236 - acc: 0.9351 - val_loss: 0.1064 - val_acc: 0.9701\n",
      "Epoch 3/15\n",
      "398/398 [==============================] - 211s 530ms/step - loss: 0.1560 - acc: 0.9559 - val_loss: 0.0560 - val_acc: 0.9847\n",
      "Epoch 4/15\n",
      "398/398 [==============================] - 207s 519ms/step - loss: 0.1237 - acc: 0.9642 - val_loss: 0.0780 - val_acc: 0.9789\n",
      "Epoch 5/15\n",
      "398/398 [==============================] - 216s 543ms/step - loss: 0.1024 - acc: 0.9710 - val_loss: 0.1875 - val_acc: 0.9508\n",
      "Epoch 6/15\n",
      "398/398 [==============================] - 216s 542ms/step - loss: 0.0922 - acc: 0.9732 - val_loss: 0.0487 - val_acc: 0.9863\n",
      "Epoch 7/15\n",
      "398/398 [==============================] - 214s 537ms/step - loss: 0.0819 - acc: 0.9778 - val_loss: 0.0373 - val_acc: 0.9881\n",
      "Epoch 8/15\n",
      "398/398 [==============================] - 214s 537ms/step - loss: 0.0720 - acc: 0.9782 - val_loss: 0.0552 - val_acc: 0.9847\n",
      "Epoch 9/15\n",
      "398/398 [==============================] - 213s 535ms/step - loss: 0.0675 - acc: 0.9806 - val_loss: 0.0369 - val_acc: 0.9889\n",
      "Epoch 10/15\n",
      "398/398 [==============================] - 212s 532ms/step - loss: 0.0641 - acc: 0.9827 - val_loss: 0.0339 - val_acc: 0.9890\n",
      "Epoch 11/15\n",
      "398/398 [==============================] - 204s 512ms/step - loss: 0.0593 - acc: 0.9828 - val_loss: 0.0352 - val_acc: 0.9893\n",
      "Epoch 12/15\n",
      "398/398 [==============================] - 196s 492ms/step - loss: 0.0547 - acc: 0.9845 - val_loss: 0.0287 - val_acc: 0.9926\n",
      "Epoch 13/15\n",
      "398/398 [==============================] - 195s 490ms/step - loss: 0.0519 - acc: 0.9855 - val_loss: 0.0270 - val_acc: 0.9917\n",
      "Epoch 14/15\n",
      "398/398 [==============================] - 195s 490ms/step - loss: 0.0521 - acc: 0.9856 - val_loss: 0.0322 - val_acc: 0.9912\n",
      "Epoch 15/15\n",
      "398/398 [==============================] - 196s 493ms/step - loss: 0.0438 - acc: 0.9870 - val_loss: 0.0313 - val_acc: 0.9922\n"
     ]
    }
   ],
   "source": [
    "# Fit the model\n",
    "history = model.fit_generator(datagen.flow(X_train,y_train, batch_size=batchSize),\n",
    "                              epochs = Epochs, validation_data = (X_val,y_val),\n",
    "                              verbose = 1, steps_per_epoch=X_train.shape[0] // batchSize\n",
    "                              , callbacks=[annealer])"
   ]
  },
  {
   "cell_type": "code",
   "execution_count": 21,
   "metadata": {},
   "outputs": [],
   "source": [
    "#from keras.models import load_model\n",
    "\n",
    "#model.save('my_model1.h5')  # creates a HDF5 file 'my_model.h5'\n",
    "#del model  # deletes the existing model\n",
    "\n",
    "# returns a compiled model\n",
    "# identical to the previous one\n",
    "#model = load_model('my_model.h5')"
   ]
  },
  {
   "cell_type": "markdown",
   "metadata": {},
   "source": [
    "## Training and Validation Performance of CNN Model"
   ]
  },
  {
   "cell_type": "markdown",
   "metadata": {},
   "source": [
    "As it is seen from the final epoch, training accuracy is smaller than validation accuracy. This is due to dropout regulizer. Training accuracy is calculated with the network where some units are dropped randomly but validation accuracy is calculated using whole network. When we evaluate the model on the training set, we see that the performance score is increased since the regularization layers are turned-off during the evaluation. This subject is also discussed in FAQ of Keras [17]. "
   ]
  },
  {
   "cell_type": "code",
   "execution_count": 37,
   "metadata": {},
   "outputs": [
    {
     "name": "stdout",
     "output_type": "stream",
     "text": [
      "Validation Loss: 0.031257, Validation Accuracy: 0.992222\n",
      "Train Loss: 0.018821, Train Accuracy: 0.994549\n"
     ]
    }
   ],
   "source": [
    "valLoss, valAcc = model.evaluate(X_val, y_val, verbose=0)\n",
    "trainLoss, trainAcc = model.evaluate(X_train, y_train, verbose=0)\n",
    "print(\"Validation Loss: {0:.6f}, Validation Accuracy: {1:.6f}\".format(valLoss, valAcc))\n",
    "print(\"Train Loss: {0:.6f}, Train Accuracy: {1:.6f}\".format(trainLoss, trainAcc))"
   ]
  },
  {
   "cell_type": "code",
   "execution_count": 38,
   "metadata": {},
   "outputs": [
    {
     "data": {
      "image/png": "[encoded data removed]",
      "text/plain": [
       "<matplotlib.figure.Figure at 0x25a22b0ec50>"
      ]
     },
     "metadata": {},
     "output_type": "display_data"
    },
    {
     "data": {
      "image/png": "[encoded data removed]",
      "text/plain": [
       "<matplotlib.figure.Figure at 0x25a22e4e668>"
      ]
     },
     "metadata": {},
     "output_type": "display_data"
    }
   ],
   "source": [
    "sns.set_style(\"darkgrid\")\n",
    "plt.plot(history.history['loss'], label = \"Training Loss\")\n",
    "plt.plot(history.history['val_loss'], label = \"Validation Loss\")\n",
    "plt.legend()\n",
    "plt.show()\n",
    "plt.plot(history.history['acc'],label = \"Training Accuracy\")\n",
    "plt.plot(history.history['val_acc'], label = \"Validation Accuracy\")\n",
    "plt.legend()\n",
    "plt.show()\n"
   ]
  },
  {
   "cell_type": "markdown",
   "metadata": {},
   "source": [
    "### Confusion Matrix of the Test Set\n"
   ]
  },
  {
   "cell_type": "markdown",
   "metadata": {},
   "source": [
    "At first run , the model predicted 85 of actual 9's as 6 and 47 of actual 6's as 9. It also confused 5's with 2's.This systematic error is due to turning on the *flip* arguments in the data augmentation step, previously. It's no surprise to miss true classification of some symmetric digits under horizontal or vertical flips. The old confusion matrix with flip can be seen here:![](files/CM_w_flip.png)"
   ]
  },
  {
   "cell_type": "markdown",
   "metadata": {},
   "source": [
    "When the problem of flip is solved loss and accuracy is improved. It is also apperant in the confusion matrix since number of false positives and false negatives are decreased. The structure of the matrix became more diagonal."
   ]
  },
  {
   "cell_type": "code",
   "execution_count": 39,
   "metadata": {},
   "outputs": [
    {
     "data": {
      "image/png": "[encoded data removed]",
      "text/plain": [
       "<matplotlib.figure.Figure at 0x25a22e94d30>"
      ]
     },
     "metadata": {},
     "output_type": "display_data"
    }
   ],
   "source": [
    "pred = model.predict(X_test) # Predict values of the test set\n",
    "y_testCat = to_categorical(y_test, num_classes = classNum) \n",
    "testLoss, testAcc = model.evaluate(X_test, y_testCat, verbose=0)\n",
    "#print(testLoss,testAcc)\n",
    "\n",
    "pred1hot = np.argmax(pred, axis=1) # Convert predicted classes to one hot vectors\n",
    "y_test1hot = np.argmax(y_testCat, axis=1) # Convert true classes to one hot vectors\n",
    "cm = confusion_matrix(y_test1hot, pred1hot) #confusion matrix\n",
    "#print(cm)\n",
    "plt.figure(figsize=(9,9))\n",
    "sns.heatmap(cm, annot=True, fmt=\".3f\", linewidths=.5, square = True);\n",
    "plt.ylabel('True Labels');\n",
    "plt.xlabel('Predicted Labels');\n",
    "\n",
    "plt.title('Test Loss = %.4f, Test Accuracy = %.4f'%(testLoss, testAcc), size = 15);\n",
    "\n",
    "#plot_confusion_matrix(confusion_mtx, classes = range(10)) "
   ]
  },
  {
   "cell_type": "markdown",
   "metadata": {},
   "source": [
    "## Conclusions\n",
    "\n",
    "In this study performance of SVM and CNN is compared. To make SVM work faster several dimentionality reduction methods are employed. Despite the common sense in the literature, PCA outperformed PCA + t-SNE when combined with SVM. To detect digits in the MNIST dataset, algorithms with non-linear kernels must be used. Number of principal component must be chosen optimally to avoid over-fitting. There is no such a thumbrule that more is better. 97% accuracy and recall scores are obtained when 50 PCs passed to SVM classifier with RBF kernel. The performance can be improved further upon tuning gamma parameter.\n",
    "\n",
    "CNN model with 4 convolutional layers caped with 2 dense layers at the end is also studied for the sake of comparision. Different regularization techniques such as *max pooling*, *batch normalization* and *dropout* are also employed in the model. To improve the predictive power of the model, dataset must be augmented carefully. With 99.2% of accuracy CNN outperforms, PCA + SVM model as expected. Due to its biological inspired design which mimics the behaviour of visual cortex, CNNs are very effective in areas of image detection and classification."
   ]
  },
  {
   "cell_type": "markdown",
   "metadata": {},
   "source": [
    "## References\n",
    "\n",
    "1. [MNIST database](https://en.wikipedia.org/wiki/MNIST_database)\n",
    "2. Géron, A. (2017). Hands-on machine learning with Scikit-Learn and TensorFlow: concepts, tools, and techniques to build intelligent systems. \" O'Reilly Media, Inc.\".\n",
    "3. [THE MNIST DATABASE of handwritten digits](http://yann.lecun.com/exdb/mnist/)\n",
    "4. [Introduction to CNN Keras - 0.997 (top 6%)](https://www.kaggle.com/yassineghouzam/introduction-to-cnn-keras-0-997-top-6)\n",
    "5. [Neural Networks and Deep Learning](http://neuralnetworksanddeeplearning.com/index.html)\n",
    "6. [A Beginner's Guide To Understanding Convolutional Neural Networks](https://adeshpande3.github.io/adeshpande3.github.io/A-Beginner's-Guide-To-Understanding-Convolutional-Neural-Networks/)\n",
    "7. [Visual Cortex Cell Recording](https://www.youtube.com/watch?v=Cw5PKV9Rj3o)\n",
    "8. Xavier Glorot, Antoine Bordes and Yoshua Bengio (2011). [Deep sparse rectifier neural networks](http://proceedings.mlr.press/v15/glorot11a/glorot11a.pdf). AISTATS.\n",
    "9. [Usage of Initializers](https://keras.io/initializers/#truncatednormal)\n",
    "10. [Dropout: A Simple Way to Prevent Neural Networks from Overfitting](https://www.cs.toronto.edu/~hinton/absps/JMLRdropout.pdf)\n",
    "11. [Batch Normalization: Accelerating Deep Network Training by Reducing Internal Covariate Shift](https://arxiv.org/pdf/1502.03167v3.pdf)\n",
    "12. [Adam: A Method for Stochastic Optimization](https://arxiv.org/abs/1412.6980)\n",
    "13. [An overview of gradient descent optimization algorithms](http://ruder.io/optimizing-gradient-descent/index.html#conclusion)\n",
    "14. [keras/keras/optimizers.py](https://github.com/keras-team/keras/blob/master/keras/optimizers.py)\n",
    "15. [Welcome to deep learning (CNN 99%)](https://www.kaggle.com/toregil/welcome-to-deep-learning-cnn-99)\n",
    "16. [How can I explain the fact that test accuracy is much higher than train accuracy?](https://www.quora.com/How-can-I-explain-the-fact-that-test-accuracy-is-much-higher-than-train-accuracy)\n",
    "17. [Why is the training loss much higher than the testing loss?](https://keras.io/getting-started/faq/#why-is-the-training-loss-much-higher-than-the-testing-loss)\n",
    "18. [How can I obtain reproducible results using Keras during development?](https://keras.io/getting-started/faq/#how-can-i-obtain-reproducible-results-using-keras-during-development)\n",
    "19. [Interactive Intro to Dimensionality Reduction](https://www.kaggle.com/arthurtok/interactive-intro-to-dimensionality-reduction)\n",
    "20. [Visualizing Data using t-SNE](http://www.cs.toronto.edu/~hinton/absps/tsne.pdf)\n",
    "21. [Comprehensive Guide on t-SNE algorithm with implementation in R & Python](https://www.analyticsvidhya.com/blog/2017/01/t-sne-implementation-r-python/)\n",
    "22. [sklearn.manifold.TSNE](http://scikit-learn.org/stable/modules/generated/sklearn.manifold.TSNE.html)\n",
    "23. [Convolutional neural network](http://www.wiki-zero.net/index.php?q=aHR0cHM6Ly9lbi53aWtpcGVkaWEub3JnL3dpa2kvQ29udm9sdXRpb25hbF9uZXVyYWxfbmV0d29yaw)"
   ]
  },
  {
   "cell_type": "code",
   "execution_count": null,
   "metadata": {},
   "outputs": [],
   "source": []
  }
 ],
 "metadata": {
  "kernelspec": {
   "display_name": "Python 3",
   "language": "python",
   "name": "python3"
  },
  "language_info": {
   "codemirror_mode": {
    "name": "ipython",
    "version": 3
   },
   "file_extension": ".py",
   "mimetype": "text/x-python",
   "name": "python",
   "nbconvert_exporter": "python",
   "pygments_lexer": "ipython3",
   "version": "3.6.4"
  }
 },
 "nbformat": 4,
 "nbformat_minor": 1
}
